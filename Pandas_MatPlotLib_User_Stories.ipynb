{
 "cells": [
  {
   "cell_type": "markdown",
   "metadata": {},
   "source": [
    "## Visualizing Data with Pandas and MatPlotLib\n"
   ]
  },
  {
   "cell_type": "markdown",
   "metadata": {},
   "source": [
    "### As a Data Analyst, I want to set up the proper imports so I have access to the Pandas and MatPlotLib libraries"
   ]
  },
  {
   "cell_type": "code",
   "execution_count": 1,
   "metadata": {},
   "outputs": [],
   "source": [
    "import pandas as pd\n",
    "import matplotlib.pyplot as plt"
   ]
  },
  {
   "cell_type": "markdown",
   "metadata": {},
   "source": [
    "### As a Data Analyst, I want to import and store the `ufo_sightings.csv` file in a variable"
   ]
  },
  {
   "cell_type": "code",
   "execution_count": 2,
   "metadata": {},
   "outputs": [],
   "source": [
    "ufo_sightings_dataframe = pd.read_csv(\"ufo_sightings.csv\")"
   ]
  },
  {
   "cell_type": "markdown",
   "metadata": {},
   "source": [
    "### As a Data Analyst, I want to ensure my DataFrame is cleaned by removing any **null** values"
   ]
  },
  {
   "cell_type": "code",
   "execution_count": 3,
   "metadata": {},
   "outputs": [
    {
     "name": "stdout",
     "output_type": "stream",
     "text": [
      "<class 'pandas.core.frame.DataFrame'>\n",
      "Int64Index: 53562 entries, 0 to 64682\n",
      "Data columns (total 12 columns):\n",
      " #   Column               Non-Null Count  Dtype  \n",
      "---  ------               --------------  -----  \n",
      " 0   #                    53562 non-null  int64  \n",
      " 1   Date_Time            53562 non-null  object \n",
      " 2   City                 53562 non-null  object \n",
      " 3   State/Province       53562 non-null  object \n",
      " 4   Country              53562 non-null  object \n",
      " 5   UFO_Shape            53562 non-null  object \n",
      " 6   Length_of_Encounter  53562 non-null  float64\n",
      " 7   Described_Duration   53562 non-null  object \n",
      " 8   Description          53562 non-null  object \n",
      " 9   Date_Documented      53562 non-null  object \n",
      " 10  Latitude             53562 non-null  float64\n",
      " 11  Longitude            53562 non-null  float64\n",
      "dtypes: float64(3), int64(1), object(8)\n",
      "memory usage: 5.3+ MB\n"
     ]
    }
   ],
   "source": [
    "non_null_df = ufo_sightings_dataframe.dropna()\n",
    "non_null_df.info()"
   ]
  },
  {
   "cell_type": "markdown",
   "metadata": {},
   "source": [
    "### As a Data Analyst, I want to filter my DataFrame to remove any information that is not related to my analysis\n",
    "* This will include **dropping** the **Described_Duration, Description, and Date_Documented** columns"
   ]
  },
  {
   "cell_type": "code",
   "execution_count": 14,
   "metadata": {},
   "outputs": [
    {
     "data": {
      "text/html": [
       "<div>\n",
       "<style scoped>\n",
       "    .dataframe tbody tr th:only-of-type {\n",
       "        vertical-align: middle;\n",
       "    }\n",
       "\n",
       "    .dataframe tbody tr th {\n",
       "        vertical-align: top;\n",
       "    }\n",
       "\n",
       "    .dataframe thead th {\n",
       "        text-align: right;\n",
       "    }\n",
       "</style>\n",
       "<table border=\"1\" class=\"dataframe\">\n",
       "  <thead>\n",
       "    <tr style=\"text-align: right;\">\n",
       "      <th></th>\n",
       "      <th>#</th>\n",
       "      <th>Date_Time</th>\n",
       "      <th>City</th>\n",
       "      <th>State/Province</th>\n",
       "      <th>Country</th>\n",
       "      <th>UFO_Shape</th>\n",
       "      <th>Length_of_Encounter</th>\n",
       "      <th>Latitude</th>\n",
       "      <th>Longitude</th>\n",
       "    </tr>\n",
       "  </thead>\n",
       "  <tbody>\n",
       "    <tr>\n",
       "      <th>0</th>\n",
       "      <td>0</td>\n",
       "      <td>10/10/1949 20:30</td>\n",
       "      <td>San Marcos</td>\n",
       "      <td>TX</td>\n",
       "      <td>US</td>\n",
       "      <td>cylinder</td>\n",
       "      <td>2700.0</td>\n",
       "      <td>29.883056</td>\n",
       "      <td>-97.941111</td>\n",
       "    </tr>\n",
       "    <tr>\n",
       "      <th>3</th>\n",
       "      <td>3</td>\n",
       "      <td>10/10/1956 21:00</td>\n",
       "      <td>Edna</td>\n",
       "      <td>TX</td>\n",
       "      <td>US</td>\n",
       "      <td>circle</td>\n",
       "      <td>20.0</td>\n",
       "      <td>28.978333</td>\n",
       "      <td>-96.645833</td>\n",
       "    </tr>\n",
       "    <tr>\n",
       "      <th>4</th>\n",
       "      <td>4</td>\n",
       "      <td>10/10/1960 20:00</td>\n",
       "      <td>Kaneohe</td>\n",
       "      <td>HI</td>\n",
       "      <td>US</td>\n",
       "      <td>light</td>\n",
       "      <td>900.0</td>\n",
       "      <td>21.418056</td>\n",
       "      <td>-157.803611</td>\n",
       "    </tr>\n",
       "    <tr>\n",
       "      <th>5</th>\n",
       "      <td>5</td>\n",
       "      <td>10/10/1961 19:00</td>\n",
       "      <td>Bristol</td>\n",
       "      <td>TN</td>\n",
       "      <td>US</td>\n",
       "      <td>sphere</td>\n",
       "      <td>300.0</td>\n",
       "      <td>36.595000</td>\n",
       "      <td>-82.188889</td>\n",
       "    </tr>\n",
       "    <tr>\n",
       "      <th>7</th>\n",
       "      <td>7</td>\n",
       "      <td>10/10/1965 23:45</td>\n",
       "      <td>Norwalk</td>\n",
       "      <td>CT</td>\n",
       "      <td>US</td>\n",
       "      <td>disk</td>\n",
       "      <td>1200.0</td>\n",
       "      <td>41.117500</td>\n",
       "      <td>-73.408333</td>\n",
       "    </tr>\n",
       "  </tbody>\n",
       "</table>\n",
       "</div>"
      ],
      "text/plain": [
       "   #         Date_Time        City State/Province Country UFO_Shape  \\\n",
       "0  0  10/10/1949 20:30  San Marcos             TX      US  cylinder   \n",
       "3  3  10/10/1956 21:00        Edna             TX      US    circle   \n",
       "4  4  10/10/1960 20:00     Kaneohe             HI      US     light   \n",
       "5  5  10/10/1961 19:00     Bristol             TN      US    sphere   \n",
       "7  7  10/10/1965 23:45     Norwalk             CT      US      disk   \n",
       "\n",
       "   Length_of_Encounter   Latitude   Longitude  \n",
       "0               2700.0  29.883056  -97.941111  \n",
       "3                 20.0  28.978333  -96.645833  \n",
       "4                900.0  21.418056 -157.803611  \n",
       "5                300.0  36.595000  -82.188889  \n",
       "7               1200.0  41.117500  -73.408333  "
      ]
     },
     "execution_count": 14,
     "metadata": {},
     "output_type": "execute_result"
    }
   ],
   "source": [
    "cleaned_ufo_df=non_null_df.drop(columns=[\"Described_Duration\",\"Description\",\"Date_Documented\"], axis = 1)\n",
    "cleaned_ufo_df.head()"
   ]
  },
  {
   "cell_type": "markdown",
   "metadata": {},
   "source": [
    "### As a Data Analyst, I want to convert the `Date_Time` column to utilize Pandas' DateTime data type"
   ]
  },
  {
   "cell_type": "code",
   "execution_count": 4,
   "metadata": {},
   "outputs": [
    {
     "name": "stdout",
     "output_type": "stream",
     "text": [
      "<class 'pandas.core.frame.DataFrame'>\n",
      "RangeIndex: 64683 entries, 0 to 64682\n",
      "Data columns (total 12 columns):\n",
      " #   Column               Non-Null Count  Dtype         \n",
      "---  ------               --------------  -----         \n",
      " 0   #                    64683 non-null  int64         \n",
      " 1   Date_Time            64683 non-null  datetime64[ns]\n",
      " 2   City                 64683 non-null  object        \n",
      " 3   State/Province       59973 non-null  object        \n",
      " 4   Country              56927 non-null  object        \n",
      " 5   UFO_Shape            63124 non-null  object        \n",
      " 6   Length_of_Encounter  64683 non-null  float64       \n",
      " 7   Described_Duration   64683 non-null  object        \n",
      " 8   Description          64668 non-null  object        \n",
      " 9   Date_Documented      64683 non-null  object        \n",
      " 10  Latitude             64683 non-null  float64       \n",
      " 11  Longitude            64683 non-null  float64       \n",
      "dtypes: datetime64[ns](1), float64(3), int64(1), object(7)\n",
      "memory usage: 5.9+ MB\n"
     ]
    }
   ],
   "source": [
    "ufo_sightings_dataframe[\"Date_Time\"] = pd.to_datetime(ufo_sightings_dataframe[\"Date_Time\"])\n",
    "ufo_sightings_dataframe.info()"
   ]
  },
  {
   "cell_type": "markdown",
   "metadata": {},
   "source": [
    "## Data Visualization with Matplotlib"
   ]
  },
  {
   "cell_type": "markdown",
   "metadata": {},
   "source": [
    "### As a Data Analyst, I want to visualize the **frequency of different UFO shapes**, to determine which UFO shapes are most commonly encountered\n",
    "* I will use a **Bar Graph** to visualize this data\n",
    "* I will include a label for the X and Y axis\n",
    "* I will include a name for my chart"
   ]
  },
  {
   "cell_type": "code",
   "execution_count": 5,
   "metadata": {},
   "outputs": [
    {
     "data": {
      "text/plain": [
       "Text(0, 0.5, 'Number of Occurances')"
      ]
     },
     "execution_count": 5,
     "metadata": {},
     "output_type": "execute_result"
    },
    {
     "data": {
      "image/png": "[encoded data removed]",
      "text/plain": [
       "<Figure size 640x480 with 1 Axes>"
      ]
     },
     "metadata": {},
     "output_type": "display_data"
    }
   ],
   "source": [
    "frequency_of_ufo_shapes = ufo_sightings_dataframe[\"UFO_Shape\"].value_counts()\n",
    "\n",
    "my_plot = frequency_of_ufo_shapes.plot.bar()\n",
    "plt.title(\"Frequency of UFO Shape by Occurance\")\n",
    "\n",
    "plt.xlabel(\"UFO Shape\")\n",
    "plt.ylabel(\"Number of Occurances\")"
   ]
  },
  {
   "cell_type": "markdown",
   "metadata": {},
   "source": [
    "### As a Data Analyst, I want to visualize the **number of UFO encounters**, grouped by each decade, to see if there is a correlation between number of sightings and decade\n",
    "* I will use a **Bar Graph** to visualize this data\n",
    "* I will include a label for the X and Y axis\n",
    "* I will include a name for my chart"
   ]
  },
  {
   "cell_type": "code",
   "execution_count": 20,
   "metadata": {},
   "outputs": [
    {
     "ename": "AttributeError",
     "evalue": "Can only use .dt accessor with datetimelike values",
     "output_type": "error",
     "traceback": [
      "\u001b[1;31m---------------------------------------------------------------------------\u001b[0m",
      "\u001b[1;31mAttributeError\u001b[0m                            Traceback (most recent call last)",
      "Cell \u001b[1;32mIn [20], line 1\u001b[0m\n\u001b[1;32m----> 1\u001b[0m non_null_df[\u001b[39m\"\u001b[39m\u001b[39mSighting_Year\u001b[39m\u001b[39m\"\u001b[39m] \u001b[39m=\u001b[39m non_null_df[\u001b[39m\"\u001b[39;49m\u001b[39mDate_Time\u001b[39;49m\u001b[39m\"\u001b[39;49m]\u001b[39m.\u001b[39;49mdt\u001b[39m.\u001b[39myear\n\u001b[0;32m      2\u001b[0m non_null_df\u001b[39m.\u001b[39mhead()\n\u001b[0;32m      3\u001b[0m \u001b[39m#non_null_df[\"Date_Time\"].value_counts().sort_index()\u001b[39;00m\n\u001b[0;32m      4\u001b[0m \u001b[39m# #non_null_df[\"By Decade\"] = (non_null_df[\"Year\"]//10)\u001b[39;00m\n",
      "File \u001b[1;32m~\\AppData\\Local\\Packages\\PythonSoftwareFoundation.Python.3.10_qbz5n2kfra8p0\\LocalCache\\local-packages\\Python310\\site-packages\\pandas\\core\\generic.py:5902\u001b[0m, in \u001b[0;36mNDFrame.__getattr__\u001b[1;34m(self, name)\u001b[0m\n\u001b[0;32m   5895\u001b[0m \u001b[39mif\u001b[39;00m (\n\u001b[0;32m   5896\u001b[0m     name \u001b[39mnot\u001b[39;00m \u001b[39min\u001b[39;00m \u001b[39mself\u001b[39m\u001b[39m.\u001b[39m_internal_names_set\n\u001b[0;32m   5897\u001b[0m     \u001b[39mand\u001b[39;00m name \u001b[39mnot\u001b[39;00m \u001b[39min\u001b[39;00m \u001b[39mself\u001b[39m\u001b[39m.\u001b[39m_metadata\n\u001b[0;32m   5898\u001b[0m     \u001b[39mand\u001b[39;00m name \u001b[39mnot\u001b[39;00m \u001b[39min\u001b[39;00m \u001b[39mself\u001b[39m\u001b[39m.\u001b[39m_accessors\n\u001b[0;32m   5899\u001b[0m     \u001b[39mand\u001b[39;00m \u001b[39mself\u001b[39m\u001b[39m.\u001b[39m_info_axis\u001b[39m.\u001b[39m_can_hold_identifiers_and_holds_name(name)\n\u001b[0;32m   5900\u001b[0m ):\n\u001b[0;32m   5901\u001b[0m     \u001b[39mreturn\u001b[39;00m \u001b[39mself\u001b[39m[name]\n\u001b[1;32m-> 5902\u001b[0m \u001b[39mreturn\u001b[39;00m \u001b[39mobject\u001b[39;49m\u001b[39m.\u001b[39;49m\u001b[39m__getattribute__\u001b[39;49m(\u001b[39mself\u001b[39;49m, name)\n",
      "File \u001b[1;32m~\\AppData\\Local\\Packages\\PythonSoftwareFoundation.Python.3.10_qbz5n2kfra8p0\\LocalCache\\local-packages\\Python310\\site-packages\\pandas\\core\\accessor.py:182\u001b[0m, in \u001b[0;36mCachedAccessor.__get__\u001b[1;34m(self, obj, cls)\u001b[0m\n\u001b[0;32m    179\u001b[0m \u001b[39mif\u001b[39;00m obj \u001b[39mis\u001b[39;00m \u001b[39mNone\u001b[39;00m:\n\u001b[0;32m    180\u001b[0m     \u001b[39m# we're accessing the attribute of the class, i.e., Dataset.geo\u001b[39;00m\n\u001b[0;32m    181\u001b[0m     \u001b[39mreturn\u001b[39;00m \u001b[39mself\u001b[39m\u001b[39m.\u001b[39m_accessor\n\u001b[1;32m--> 182\u001b[0m accessor_obj \u001b[39m=\u001b[39m \u001b[39mself\u001b[39;49m\u001b[39m.\u001b[39;49m_accessor(obj)\n\u001b[0;32m    183\u001b[0m \u001b[39m# Replace the property with the accessor object. Inspired by:\u001b[39;00m\n\u001b[0;32m    184\u001b[0m \u001b[39m# https://www.pydanny.com/cached-property.html\u001b[39;00m\n\u001b[0;32m    185\u001b[0m \u001b[39m# We need to use object.__setattr__ because we overwrite __setattr__ on\u001b[39;00m\n\u001b[0;32m    186\u001b[0m \u001b[39m# NDFrame\u001b[39;00m\n\u001b[0;32m    187\u001b[0m \u001b[39mobject\u001b[39m\u001b[39m.\u001b[39m\u001b[39m__setattr__\u001b[39m(obj, \u001b[39mself\u001b[39m\u001b[39m.\u001b[39m_name, accessor_obj)\n",
      "File \u001b[1;32m~\\AppData\\Local\\Packages\\PythonSoftwareFoundation.Python.3.10_qbz5n2kfra8p0\\LocalCache\\local-packages\\Python310\\site-packages\\pandas\\core\\indexes\\accessors.py:512\u001b[0m, in \u001b[0;36mCombinedDatetimelikeProperties.__new__\u001b[1;34m(cls, data)\u001b[0m\n\u001b[0;32m    509\u001b[0m \u001b[39melif\u001b[39;00m is_period_dtype(data\u001b[39m.\u001b[39mdtype):\n\u001b[0;32m    510\u001b[0m     \u001b[39mreturn\u001b[39;00m PeriodProperties(data, orig)\n\u001b[1;32m--> 512\u001b[0m \u001b[39mraise\u001b[39;00m \u001b[39mAttributeError\u001b[39;00m(\u001b[39m\"\u001b[39m\u001b[39mCan only use .dt accessor with datetimelike values\u001b[39m\u001b[39m\"\u001b[39m)\n",
      "\u001b[1;31mAttributeError\u001b[0m: Can only use .dt accessor with datetimelike values"
     ]
    }
   ],
   "source": [
    "non_null_df[\"Sighting Year\"] = non_null_df[\"Date_Time\"].dt.year\n",
    "non_null_df.head()\n",
    "#non_null_df[\"Date_Time\"].value_counts().sort_index()\n",
    "# #non_null_df[\"By Decade\"] = (non_null_df[\"Year\"]//10)"
   ]
  },
  {
   "cell_type": "markdown",
   "metadata": {},
   "source": [
    "### As a Data Analyst, I want to create a **Line Graph** to visualize the **Frequency of UFO sightings, by hour of the day**\n",
    "* I will use a **Line Graph** to visualize this data\n",
    "* I will include a label for the X and Y axis\n",
    "* I will include a name for my chart"
   ]
  },
  {
   "cell_type": "code",
   "execution_count": null,
   "metadata": {},
   "outputs": [],
   "source": [
    "frequency_of_sighting_by_hour\n",
    "ufo_sightings_dataframe.plot.line(x=\"\")"
   ]
  },
  {
   "cell_type": "markdown",
   "metadata": {},
   "source": [
    "### As a Data Analyst, I want to answer all questions in the following Markdown block to provide a **clear and detailed analysis of my UFO sighting findings**"
   ]
  },
  {
   "cell_type": "markdown",
   "metadata": {},
   "source": [
    "1. Which UFO shape is the most frequently reported? \n",
    "    * The \"Shape\" that is reported most frequently is 'light.'\n",
    "\n",
    "2. Which shape is least frequently reported?\n",
    "    * The shape that is reported least frequently is cross.\n",
    "\n",
    "3. Based on your analysis, what times of the day have the highest number of UFO sightings? \n",
    "    * Q3 Answer\n",
    "\n",
    "4. Are there other factors that may account for this pattern in the data?\n",
    "    * Q4 Answer\n",
    "\n",
    "5. Do you see any surprising trends in the breakdown by decade? Do you have any theories or ideas that may explain these patterns?\n",
    "    * Q5 Answer\n",
    "\n",
    "6. Based on your data analysis, what recommendation would you give to individuals interested in encountering a UFO?\n",
    "    * For example, what time would be best to look, what UFO shapes should they expect to see, etc.\n",
    "    * Q6 Answer\n"
   ]
  },
  {
   "cell_type": "markdown",
   "metadata": {},
   "source": [
    "### **Bonus:** As a Data Analyst, I want to visualize the frequency of **different UFO shape sightings for Virginia, Wisconsin, and Tennessee**, to see if there is any variation of UFO shape frequency between states\n",
    "* I will use a **Grouped Bar Graph** to visualize this data\n",
    "* I will include a label for the X and Y axis\n",
    "* I will include a name for my chart"
   ]
  },
  {
   "cell_type": "code",
   "execution_count": null,
   "metadata": {},
   "outputs": [],
   "source": []
  }
 ],
 "metadata": {
  "kernelspec": {
   "display_name": "Python 3.10.8 64-bit (microsoft store)",
   "language": "python",
   "name": "python3"
  },
  "language_info": {
   "codemirror_mode": {
    "name": "ipython",
    "version": 3
   },
   "file_extension": ".py",
   "mimetype": "text/x-python",
   "name": "python",
   "nbconvert_exporter": "python",
   "pygments_lexer": "ipython3",
   "version": "3.10.8"
  },
  "orig_nbformat": 4,
  "vscode": {
   "interpreter": {
    "hash": "2bf5a27b2e26c5d7ec23adc15b33b407fb84f762ff495845fb3fffc9392b81c8"
   }
  }
 },
 "nbformat": 4,
 "nbformat_minor": 2
}
